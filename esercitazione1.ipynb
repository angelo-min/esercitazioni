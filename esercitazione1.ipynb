{
  "nbformat": 4,
  "nbformat_minor": 0,
  "metadata": {
    "colab": {
      "name": "Untitled0.ipynb",
      "provenance": [],
      "authorship_tag": "ABX9TyM7IGwlnnZBO7TVeS+HA3HP",
      "include_colab_link": true
    },
    "kernelspec": {
      "name": "python3",
      "display_name": "Python 3"
    },
    "language_info": {
      "name": "python"
    }
  },
  "cells": [
    {
      "cell_type": "markdown",
      "metadata": {
        "id": "view-in-github",
        "colab_type": "text"
      },
      "source": [
        "<a href=\"https://colab.research.google.com/github/angelo-min/esercitazioni/blob/main/esercitazione1.ipynb\" target=\"_parent\"><img src=\"https://colab.research.google.com/assets/colab-badge.svg\" alt=\"Open In Colab\"/></a>"
      ]
    },
    {
      "cell_type": "markdown",
      "source": [
        "Primo programma di apprendimento automatico"
      ],
      "metadata": {
        "id": "AHPxXxFjKDIO"
      }
    },
    {
      "cell_type": "code",
      "source": [
        "#importare \n",
        "from random import randint\n",
        "\n",
        "'''sto creando un dataset fittizio'''\n",
        "TRAINING_SET_LIMIT=1000 #massimo valore del singolo elemento del training set\n",
        "TRAIN_SET_COUNT=100 #cardinalità del training set\n",
        "\n",
        "#creo due insiemi usando il costrutto lista (in realtà python ha la possibilità di costruire proprio degli insiemi)\n",
        "TRAIN_INPUT=list()\n",
        "TRAIN_OUTPUT=list()\n",
        "\n",
        "for i in range(TRAIN_SET_COUNT):\n",
        "  #creo un elemento in tre dimensioni (a,b,c)\n",
        "  a=randint(0, TRAINING_SET_LIMIT)\n",
        "  b=randint(0, TRAINING_SET_LIMIT)\n",
        "  c=randint(0, TRAINING_SET_LIMIT)\n",
        "  op=a*(2*b)+(3*c)\n",
        "  TRAIN_INPUT.append([a,b,c])\n",
        "  TRAIN_OUTPUT.append(op) #sarebbe la y del punto (a,b,c)\n"
      ],
      "metadata": {
        "id": "1_usYHEbKGJ_"
      },
      "execution_count": null,
      "outputs": []
    },
    {
      "cell_type": "markdown",
      "source": [
        "Definiamo il sistema di classificazione"
      ],
      "metadata": {
        "id": "gnHqGFw3NCDW"
      }
    },
    {
      "cell_type": "code",
      "source": [
        "from sklearn.linear_model import LinearRegression\n",
        "\n",
        "#regressione calcola la funzione che interpola i punti (in questo caso la funzione è lineare (una retta))\n",
        "predictor = LinearRegression(n_jobs=-1) #inizializzazione\n",
        "predictor.fit(X=TRAIN_INPUT, y=TRAIN_INPUT) #costruisci una funzione che meglio interpola i due dati x e y\n",
        "                                            #in questo caso cerca la retta che li unisce\n",
        "                                            "
      ],
      "metadata": {
        "colab": {
          "base_uri": "https://localhost:8080/"
        },
        "id": "VZfxijAONEnf",
        "outputId": "cc88cab7-c209-43c6-b1fd-e9c39f95028e"
      },
      "execution_count": null,
      "outputs": [
        {
          "output_type": "execute_result",
          "data": {
            "text/plain": [
              "LinearRegression(n_jobs=-1)"
            ]
          },
          "metadata": {},
          "execution_count": 6
        }
      ]
    },
    {
      "cell_type": "markdown",
      "source": [
        "#visualizzazione dei risultati"
      ],
      "metadata": {
        "id": "6BRXzI16Ns03"
      }
    },
    {
      "cell_type": "code",
      "source": [
        "X_TEST = [[10, 20, 30]]\n",
        "outcome = predictor.predict(X=X_TEST)\n",
        "coefficients = predictor.coef_\n",
        "\n",
        "#visualizzazione\n",
        "print('Outcome : {}\\nCoefficients : {}'.format(outcome, coefficients))"
      ],
      "metadata": {
        "colab": {
          "base_uri": "https://localhost:8080/"
        },
        "id": "28vAaDKONwjj",
        "outputId": "03196741-9374-45e4-aa93-ebc8dddb0567"
      },
      "execution_count": null,
      "outputs": [
        {
          "output_type": "stream",
          "name": "stdout",
          "text": [
            "Outcome : [[10. 20. 30.]]\n",
            "Coefficients : [[ 1.00000000e+00 -2.57743546e-17  8.05771112e-18]\n",
            " [-2.50710140e-16  1.00000000e+00  3.38271078e-17]\n",
            " [-2.17374764e-16 -1.35742112e-16  1.00000000e+00]]\n"
          ]
        }
      ]
    }
  ]
}